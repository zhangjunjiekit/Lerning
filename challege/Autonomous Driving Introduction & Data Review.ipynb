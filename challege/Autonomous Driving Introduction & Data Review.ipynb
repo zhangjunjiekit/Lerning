{
 "cells": [
  {
   "cell_type": "markdown",
   "metadata": {},
   "source": [
    "# Peking University/Baidu - Autonomous Driving\n",
    "## Data Description\n",
    "### 大部分的信息来自于官网 [here](https://www.kaggle.com/c/pku-autonomous-driving/data)\n",
    "这个数据集包含从车顶拍摄的街道照片。我们尝试预测在测试图像中所有未蒙面车辆的位置和方向。同事还应该提供一个置信度，表明对预测的确信度。\n",
    "#### 姿态信息(train.csv) \n",
    "注意，旋转值是相对于相机以弧度表示的角度，。\n",
    ">主要数据是汽车的图像和相关的姿态信息。姿态信息被格式化为字符串，如下所示:模型类型、偏航yaw、俯仰pitch、横滚roll、x、y、z。  \n",
    "以照片中有两辆车为具体例子:5 0.5 0.5 0.5 0.0 0.0 0.0 32 0.25 0.25 0.25 0.5 0.4 0.7  \n",
    "提交文件(根据sample_submission.csv)非常类似，只是增加了一个置信度评分，并删除了模型类型。无须预测有关车辆的类型。\n",
    "即ID, PredictionString： ID_1d7bc9b31,0.5 0.5 0.5 0.0 0.0 0.0 1.0， 表明该预测的置信度为1.0。\n",
    "\n",
    "#### 其他数据：\n",
    ">**Image Masks (test_masks.zip / train_masks.zip)**  图片中的一些车并不不感兴趣(太远，等等)。提供二进制掩码以允许选手考虑删除它们。  \n",
    "**所有感兴趣的汽车3D模型**都可以作为pickle文件下载——它们可以与图像中的汽车进行比较，用作旋转参考，等等。\n"
   ]
  },
  {
   "cell_type": "code",
   "execution_count": 3,
   "metadata": {
    "scrolled": true
   },
   "outputs": [
    {
     "name": "stderr",
     "output_type": "stream",
     "text": [
      "Using TensorFlow backend.\n"
     ]
    }
   ],
   "source": [
    "import pandas as pd\n",
    "import numpy as np\n",
    "import matplotlib.pylab as plt\n",
    "import seaborn as sns\n",
    "import pickle\n",
    "import cv2\n",
    "import json\n",
    "from keras.preprocessing.image import ImageDataGenerator, array_to_img, img_to_array, load_img\n",
    "import matplotlib.pyplot as plt\n",
    "from mpl_toolkits.mplot3d import Axes3D\n",
    "\n",
    "sns.set_style(\"whitegrid\")\n",
    "my_pal = sns.color_palette(n_colors=10)"
   ]
  },
  {
   "cell_type": "markdown",
   "metadata": {},
   "source": [
    "#### 文件描述\n",
    "\n",
    "    train.csv - 训练集中所有图像的姿态信息。\n",
    "    train_images.zip - images in the training set.\n",
    "    train_masks.zip - ignore masks for the training set. (Not all images have a mask.)\n",
    "    test_images.zip - images in the test set.\n",
    "    test_masks.zip - ignore masks for the test set. (Not all images have a mask.)\n",
    "    sample_submission.csv - 正确格式的提交文件示例\n",
    "    ImageId - 每个图像(以及相关掩码，如果存在的话)的唯一标识符。\n",
    "    PredictionString - 姿态以及置信度的集合\n",
    "    car_models.zip - 在培训/测试图像中，未蒙面车辆的3D模型。它们可以用于姿态估计等。\n",
    "    camera.zip - 摄像机内参数。\n",
    "\n"
   ]
  },
  {
   "cell_type": "code",
   "execution_count": 4,
   "metadata": {
    "scrolled": true
   },
   "outputs": [
    {
     "name": "stderr",
     "output_type": "stream",
     "text": [
      "'ls' 不是内部或外部命令，也不是可运行的程序\n",
      "或批处理文件。\n"
     ]
    }
   ],
   "source": [
    "# Look at the data folder\n",
    "!ls -GFlash --color ./dataset/appolo"
   ]
  },
  {
   "cell_type": "markdown",
   "metadata": {},
   "source": [
    "\n",
    "# Train csv file\n",
    "\n",
    "The train file contains Pose Information\n"
   ]
  },
  {
   "cell_type": "code",
   "execution_count": null,
   "metadata": {},
   "outputs": [],
   "source": [
    "train = pd.read_csv('../input/pku-autonomous-driving/train.csv')\n",
    "train.head()"
   ]
  },
  {
   "cell_type": "code",
   "execution_count": null,
   "metadata": {},
   "outputs": [],
   "source": [
    "print('Example Prediction String....')\n",
    "print(train['PredictionString'].values[0])"
   ]
  },
  {
   "cell_type": "markdown",
   "metadata": {},
   "source": [
    "\n",
    "# Expanding out the prediction string for the first vehicle\n",
    "\n",
    "We know the order of each value in the prediction string. We can expand it out for the first vehicle and see some statistics for this first vehicle position.\n"
   ]
  },
  {
   "cell_type": "code",
   "execution_count": null,
   "metadata": {},
   "outputs": [],
   "source": [
    "train_expanded = pd.concat([train, train['PredictionString'].str.split(' ', expand=True)], axis=1)\n",
    "train_expanded = train_expanded.rename(columns={0 : '1_model_type', 1 : '1_yaw', 2 : '1_pitch',\n",
    "                                                3 : '1_roll', 4 : '1_x', 5 : '1_y', 6 : '1_z'})\n",
    "train_expanded.drop('PredictionString', axis=1).head()"
   ]
  },
  {
   "cell_type": "markdown",
   "metadata": {},
   "source": [
    "\n",
    "# Training Set, First Car Stats\n",
    "\n",
    "Model type (You are not required to predict the model type of the vehicle in question.)\n",
    "\n"
   ]
  },
  {
   "cell_type": "code",
   "execution_count": null,
   "metadata": {},
   "outputs": [],
   "source": [
    "train_expanded.groupby('1_model_type')['ImageId'] \\\n",
    "    .count() \\\n",
    "    .sort_values() \\\n",
    "    .plot(kind='barh',\n",
    "          figsize=(15, 8),\n",
    "          title='First Car, Count by Model Type',\n",
    "          color=my_pal[0])\n",
    "plt.show()"
   ]
  },
  {
   "cell_type": "markdown",
   "metadata": {},
   "source": [
    "## X, Y, and Z features"
   ]
  },
  {
   "cell_type": "code",
   "execution_count": null,
   "metadata": {},
   "outputs": [],
   "source": [
    "train_expanded['1_x'] = pd.to_numeric(train_expanded['1_x'])\n",
    "train_expanded['1_y'] = pd.to_numeric(train_expanded['1_y'])\n",
    "train_expanded['1_z'] = pd.to_numeric(train_expanded['1_z'])\n",
    "train_expanded['1_x'] \\\n",
    "    .dropna() \\\n",
    "    .plot(kind='hist',\n",
    "          figsize=(15, 3),\n",
    "          bins=100,\n",
    "          title='Distribution of x',\n",
    "          color=my_pal[0])\n",
    "plt.show()\n",
    "train_expanded['1_y'] \\\n",
    "    .dropna() \\\n",
    "    .plot(kind='hist',\n",
    "          figsize=(15, 3),\n",
    "          bins=100,\n",
    "          title='Distribution of y',\n",
    "          color=my_pal[1])\n",
    "plt.show()\n",
    "train_expanded['1_z'] \\\n",
    "    .dropna() \\\n",
    "    .plot(kind='hist',\n",
    "          figsize=(15, 3),\n",
    "          bins=100,\n",
    "          title='Distribution of z',\n",
    "          color=my_pal[2])\n",
    "plt.show()"
   ]
  },
  {
   "cell_type": "markdown",
   "metadata": {},
   "source": [
    "# Sample submission"
   ]
  },
  {
   "cell_type": "code",
   "execution_count": null,
   "metadata": {},
   "outputs": [],
   "source": [
    "ss = pd.read_csv('../input/pku-autonomous-driving/sample_submission.csv')\n",
    "ss.head()"
   ]
  },
  {
   "cell_type": "markdown",
   "metadata": {},
   "source": [
    "\n",
    "# Reading Images\n",
    "\n",
    "    Train and test images and masks are each in their own folder.\n",
    "    Lets look at the image with the most cars from the training set.\n",
    "    All are jpg files\n",
    "\n"
   ]
  },
  {
   "cell_type": "code",
   "execution_count": null,
   "metadata": {},
   "outputs": [],
   "source": [
    "# Lets look at the first few images on disk\n",
    "!ls -GFlash ../input/pku-autonomous-driving/train_images | head"
   ]
  },
  {
   "cell_type": "markdown",
   "metadata": {},
   "source": [
    "# Image Example"
   ]
  },
  {
   "cell_type": "code",
   "execution_count": null,
   "metadata": {},
   "outputs": [],
   "source": [
    "plt.rcParams[\"axes.grid\"] = False\n",
    "\n",
    "train_ids = train['ImageId'].values\n",
    "img_name = train.loc[2742]['ImageId']\n",
    "fig, ax = plt.subplots(figsize=(15, 15))\n",
    "img = load_img('../input/pku-autonomous-driving/train_images/' + img_name + '.jpg')\n",
    "plt.imshow(img)\n",
    "plt.show()"
   ]
  },
  {
   "cell_type": "markdown",
   "metadata": {},
   "source": [
    "# Mask Example"
   ]
  },
  {
   "cell_type": "code",
   "execution_count": null,
   "metadata": {},
   "outputs": [],
   "source": [
    "fig, ax = plt.subplots(figsize=(15, 15))\n",
    "mask = load_img('../input/pku-autonomous-driving/train_masks/' + img_name + '.jpg')\n",
    "plt.imshow(mask)\n",
    "plt.show()"
   ]
  },
  {
   "cell_type": "markdown",
   "metadata": {},
   "source": [
    "#  Plotting Mask over the Images"
   ]
  },
  {
   "cell_type": "code",
   "execution_count": null,
   "metadata": {},
   "outputs": [],
   "source": [
    "fig, ax = plt.subplots(figsize=(15, 15))\n",
    "plt.imshow(img)\n",
    "plt.imshow(mask, cmap=plt.cm.viridis, interpolation='none', alpha=0.5)\n",
    "plt.show()"
   ]
  },
  {
   "cell_type": "markdown",
   "metadata": {},
   "source": [
    "# Masks Next to Images"
   ]
  },
  {
   "cell_type": "code",
   "execution_count": null,
   "metadata": {},
   "outputs": [],
   "source": [
    "ids = train['ImageId'].values\n",
    "fig, axes = plt.subplots(4, 3, figsize=(18, 20))\n",
    "for i in range(4):\n",
    "    img = load_img('../input/pku-autonomous-driving/train_images/' + ids[i] + '.jpg')\n",
    "    img_mask = load_img('../input/pku-autonomous-driving/train_masks/' + ids[i] + '.jpg')\n",
    "    #plt.subplot(1,2*(1+len(ids)),q*2-1)\n",
    "    ax=axes[i][0].imshow(img)\n",
    "    #plt.subplot(1,2*(1+len(ids)),q*2)\n",
    "    ax=axes[i][1].imshow(img_mask)\n",
    "    ax=axes[i][2].imshow(img)\n",
    "    ax=axes[i][2].imshow(img_mask, cmap=plt.cm.viridis, interpolation='none', alpha=0.4)\n",
    "plt.show()"
   ]
  },
  {
   "cell_type": "markdown",
   "metadata": {},
   "source": [
    "#  Camera intrinsic parameters"
   ]
  },
  {
   "cell_type": "code",
   "execution_count": null,
   "metadata": {},
   "outputs": [],
   "source": [
    "!cat ../input/pku-autonomous-driving/camera/camera_intrinsic.txt"
   ]
  },
  {
   "cell_type": "markdown",
   "metadata": {},
   "source": [
    "# 3D Car Models"
   ]
  },
  {
   "cell_type": "code",
   "execution_count": null,
   "metadata": {},
   "outputs": [],
   "source": [
    "!ls -GFlash ../input/pku-autonomous-driving/car_models/ | head"
   ]
  },
  {
   "cell_type": "markdown",
   "metadata": {},
   "source": [
    "\n",
    "\n",
    "Per the data description 3D models of all cars of interest are   available for download as pickle files - they can be compared against cars in images, used as references for rotation, etc.  \n",
    "\n",
    "The pickles were created in Python 2. For Python 3 users, the following code will load a given model:  \n",
    "\n",
    "with open(model, \"rb\") as file:  \n",
    "    pickle.load(file, encoding=\"latin1\")  \n",
    "\n",
    "This doesn't appear to work on kaggle kernels, returns a   ModuleNotFoundError: No module named 'objloader'\n"
   ]
  },
  {
   "cell_type": "code",
   "execution_count": null,
   "metadata": {},
   "outputs": [],
   "source": [
    "# model = '../input/pku-autonomous-driving/car_models/aodi-Q7-SUV.pkl'\n",
    "# with open(model, \"rb\") as file:\n",
    "#     pickle.load(file, encoding=\"latin1\")"
   ]
  },
  {
   "cell_type": "markdown",
   "metadata": {},
   "source": [
    "\n",
    "# 3D Car Model JSON Files\n",
    "\n",
    "We can however load the json files located in the ../input/pku-autonomous-driving/car_models_json/ directory\n"
   ]
  },
  {
   "cell_type": "code",
   "execution_count": null,
   "metadata": {},
   "outputs": [],
   "source": [
    "!ls -GFlash ../input/pku-autonomous-driving/car_models_json/ | head"
   ]
  },
  {
   "cell_type": "code",
   "execution_count": null,
   "metadata": {},
   "outputs": [],
   "source": [
    "\n",
    "\n",
    "with open('../input/pku-autonomous-driving/car_models_json/mazida-6-2015.json') as json_file:\n",
    "    car_model_data = json.load(json_file)\n",
    "\n"
   ]
  },
  {
   "cell_type": "markdown",
   "metadata": {},
   "source": [
    "The File contains the car type, vertices and faces."
   ]
  },
  {
   "cell_type": "code",
   "execution_count": null,
   "metadata": {},
   "outputs": [],
   "source": [
    "for keys in enumerate(car_model_data):\n",
    "    print(keys)\n"
   ]
  },
  {
   "cell_type": "code",
   "execution_count": null,
   "metadata": {},
   "outputs": [],
   "source": [
    "def plot_3d_car(model_json_file):\n",
    "    with open(f'../input/pku-autonomous-driving/car_models_json/{model_json_file}') as json_file:\n",
    "        car_model_data = json.load(json_file)\n",
    "\n",
    "    vertices = np.array(car_model_data['vertices'])\n",
    "    faces = np.array(car_model_data['faces']) - 1\n",
    "    car_type = car_model_data['car_type']\n",
    "    x, y, z = vertices[:,0], vertices[:,2], -vertices[:,1]\n",
    "    fig = plt.figure(figsize=(30, 10))\n",
    "    ax = plt.axes(projection='3d')\n",
    "    ax.plot_trisurf(x, y, faces, z,\n",
    "                    cmap='viridis', edgecolor='none')\n",
    "    ax.set_title(car_type)\n",
    "    ax.view_init(30, 0)\n",
    "    plt.show()\n",
    "    fig = plt.figure(figsize=(30, 10))\n",
    "    ax = plt.axes(projection='3d')\n",
    "    ax.plot_trisurf(x, y, faces, z,\n",
    "                    cmap='viridis', edgecolor='none')\n",
    "    ax.set_title(car_type)\n",
    "    ax.view_init(60, 0)\n",
    "    plt.show()\n",
    "    fig = plt.figure(figsize=(30, 10))\n",
    "    ax = plt.axes(projection='3d')\n",
    "    ax.plot_trisurf(x, y, faces, z,\n",
    "                    cmap='viridis', edgecolor='none')\n",
    "    ax.set_title(car_type)\n",
    "    ax.view_init(-20, 180)\n",
    "    plt.show()\n",
    "    return\n"
   ]
  },
  {
   "cell_type": "markdown",
   "metadata": {},
   "source": [
    "# MG GT"
   ]
  },
  {
   "cell_type": "code",
   "execution_count": null,
   "metadata": {},
   "outputs": [],
   "source": [
    "plot_3d_car('MG-GT-2015.json')"
   ]
  },
  {
   "cell_type": "markdown",
   "metadata": {},
   "source": [
    "# Aodi Q7"
   ]
  },
  {
   "cell_type": "code",
   "execution_count": null,
   "metadata": {},
   "outputs": [],
   "source": [
    "plot_3d_car('aodi-Q7-SUV.json')"
   ]
  },
  {
   "cell_type": "markdown",
   "metadata": {},
   "source": [
    "# Mazia 6"
   ]
  },
  {
   "cell_type": "code",
   "execution_count": null,
   "metadata": {},
   "outputs": [],
   "source": [
    "plot_3d_car('mazida-6-2015.json')"
   ]
  },
  {
   "cell_type": "code",
   "execution_count": null,
   "metadata": {},
   "outputs": [],
   "source": []
  },
  {
   "cell_type": "code",
   "execution_count": null,
   "metadata": {},
   "outputs": [],
   "source": []
  },
  {
   "cell_type": "code",
   "execution_count": null,
   "metadata": {},
   "outputs": [],
   "source": []
  }
 ],
 "metadata": {
  "kernelspec": {
   "display_name": "Python 2",
   "language": "python",
   "name": "python2"
  },
  "language_info": {
   "codemirror_mode": {
    "name": "ipython",
    "version": 2
   },
   "file_extension": ".py",
   "mimetype": "text/x-python",
   "name": "python",
   "nbconvert_exporter": "python",
   "pygments_lexer": "ipython2",
   "version": "2.7.12"
  }
 },
 "nbformat": 4,
 "nbformat_minor": 4
}
