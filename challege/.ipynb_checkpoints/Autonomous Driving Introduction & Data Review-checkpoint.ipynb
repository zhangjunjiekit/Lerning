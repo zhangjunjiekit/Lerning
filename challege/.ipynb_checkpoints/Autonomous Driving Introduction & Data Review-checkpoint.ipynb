{
 "cells": [
  {
   "cell_type": "markdown",
   "metadata": {},
   "source": [
    "# Peking University/Baidu - Autonomous Driving\n",
    "## Data Description\n",
    "### 大部分的信息来自于官网 [here](https://www.kaggle.com/c/pku-autonomous-driving/data)\n",
    "这个数据集包含从车顶拍摄的街道照片。我们尝试预测在测试图像中所有未蒙面车辆的位置和方向。同事还应该提供一个置信度，表明对预测的确信度。\n",
    "#### 姿态信息(train.csv) \n",
    "注意，旋转值是相对于相机以弧度表示的角度，。\n",
    ">主要数据是汽车的图像和相关的姿态信息。姿态信息被格式化为字符串，如下所示:模型类型、偏航yaw、俯仰pitch、横滚roll、x、y、z。  \n",
    "以照片中有两辆车为具体例子:5 0.5 0.5 0.5 0.0 0.0 0.0 32 0.25 0.25 0.25 0.5 0.4 0.7  \n",
    "提交文件(根据sample_submission.csv)非常类似，只是增加了一个置信度评分，并删除了模型类型。无须预测有关车辆的类型。\n",
    "即ID, PredictionString： ID_1d7bc9b31,0.5 0.5 0.5 0.0 0.0 0.0 1.0， 表明该预测的置信度为1.0。\n",
    "\n",
    "#### 其他数据：\n",
    ">**Image Masks (test_masks.zip / train_masks.zip)**  图片中的一些车并不不感兴趣(太远，等等)。提供二进制掩码以允许选手考虑删除它们。  \n",
    "**所有感兴趣的汽车3D模型**都可以作为pickle文件下载——它们可以与图像中的汽车进行比较，用作旋转参考，等等。\n"
   ]
  },
  {
   "cell_type": "code",
   "execution_count": 3,
   "metadata": {
    "scrolled": true
   },
   "outputs": [
    {
     "name": "stderr",
     "output_type": "stream",
     "text": [
      "Using TensorFlow backend.\n"
     ]
    }
   ],
   "source": [
    "import pandas as pd\n",
    "import numpy as np\n",
    "import matplotlib.pylab as plt\n",
    "import seaborn as sns\n",
    "import pickle\n",
    "import cv2\n",
    "import json\n",
    "from keras.preprocessing.image import ImageDataGenerator, array_to_img, img_to_array, load_img\n",
    "import matplotlib.pyplot as plt\n",
    "from mpl_toolkits.mplot3d import Axes3D\n",
    "\n",
    "sns.set_style(\"whitegrid\")\n",
    "my_pal = sns.color_palette(n_colors=10)"
   ]
  },
  {
   "cell_type": "markdown",
   "metadata": {},
   "source": [
    "#### 文件描述\n",
    "\n",
    "    train.csv - 训练集中所有图像的姿态信息。\n",
    "    train_images.zip - images in the training set.\n",
    "    train_masks.zip - ignore masks for the training set. (Not all images have a mask.)\n",
    "    test_images.zip - images in the test set.\n",
    "    test_masks.zip - ignore masks for the test set. (Not all images have a mask.)\n",
    "    sample_submission.csv - 正确格式的提交文件示例\n",
    "    ImageId - 每个图像(以及相关掩码，如果存在的话)的唯一标识符。\n",
    "    PredictionString - 姿态以及置信度的集合\n",
    "    car_models.zip - 在培训/测试图像中，未蒙面车辆的3D模型。它们可以用于姿态估计等。\n",
    "    camera.zip - 摄像机内参数。\n",
    "\n"
   ]
  }
 ],
 "metadata": {
  "kernelspec": {
   "display_name": "Python 3",
   "language": "python",
   "name": "python3"
  },
  "language_info": {
   "codemirror_mode": {
    "name": "ipython",
    "version": 3
   },
   "file_extension": ".py",
   "mimetype": "text/x-python",
   "name": "python",
   "nbconvert_exporter": "python",
   "pygments_lexer": "ipython3",
   "version": "3.6.10"
  }
 },
 "nbformat": 4,
 "nbformat_minor": 4
}
